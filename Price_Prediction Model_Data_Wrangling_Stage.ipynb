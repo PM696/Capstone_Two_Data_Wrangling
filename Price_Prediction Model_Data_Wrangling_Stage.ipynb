{
 "cells": [
  {
   "cell_type": "markdown",
   "id": "f60f3186",
   "metadata": {},
   "source": [
    "# Capstone Two: Data Wrangling"
   ]
  },
  {
   "cell_type": "markdown",
   "id": "a4bbd707",
   "metadata": {},
   "source": [
    "## 1. Introduction"
   ]
  },
  {
   "cell_type": "markdown",
   "id": "81029b09",
   "metadata": {},
   "source": [
    "The purpose of this data wrangling exercise is to ensur I have sufficient and quality data to use in developing a price prediction model. \n",
    "\n",
    "The dataset used in this project was obtained from https://www.kaggle.com/datasets/ahmedshahriarsakib/usa-real-estate-dataset \n",
    "The Kaggle command API is !kaggle datasets download -d ahmedshahriarsakib/usa-real-estate-dataset\n",
    "\n",
    "The definitions of the columns in the dataset are:\n",
    "\n",
    "status = Housing status - ready for sale or, ready to build;\n",
    "\n",
    "bed  = number of beds;\n",
    "\n",
    "bath = number of bathrooms;\n",
    "\n",
    "acre_lot = Property / Land size in acres;\n",
    "\n",
    "city = name of the city where house is located;\n",
    "\n",
    "state = name of the state;\n",
    "\n",
    "zip_code = postal code of the area;\n",
    "\n",
    "house_size = square footage for the house;\n",
    "\n",
    "prev_sold_date = previous date when the house was last sold;\n",
    "\n",
    "price = Housing price, it is either the current listing price or recently sold price if the house was sold recently."
   ]
  },
  {
   "cell_type": "markdown",
   "id": "c7a17f3f",
   "metadata": {},
   "source": [
    "### 1.1 Objectives"
   ]
  },
  {
   "cell_type": "markdown",
   "id": "714e0044",
   "metadata": {},
   "source": [
    "Clean the data and ensure it is sufficient to test whether house attributes such as number of bedrooms, bathrooms, as well as location and lot_size correlate with price. Also, if I can predict housing prices based on the features."
   ]
  },
  {
   "cell_type": "markdown",
   "id": "a6d1763a",
   "metadata": {},
   "source": [
    "## 2. Imported Packages and Libraries"
   ]
  },
  {
   "cell_type": "code",
   "execution_count": 1,
   "id": "d49b4c86",
   "metadata": {},
   "outputs": [],
   "source": [
    "# Import packages and libraries\n",
    "import requests\n",
    "import numpy as np\n",
    "import pandas as pd\n",
    "import matplotlib.pyplot as plt\n",
    "import seaborn as sns\n",
    "import missingno as msno"
   ]
  },
  {
   "cell_type": "markdown",
   "id": "e927b9ba",
   "metadata": {},
   "source": [
    "## 3. Load the Real Estate Data"
   ]
  },
  {
   "cell_type": "code",
   "execution_count": 2,
   "id": "cad92a27",
   "metadata": {},
   "outputs": [],
   "source": [
    "# Load the original dataset\n",
    "df = pd.read_csv('realtor_data.csv')"
   ]
  },
  {
   "cell_type": "code",
   "execution_count": 3,
   "id": "93627307",
   "metadata": {},
   "outputs": [
    {
     "name": "stdout",
     "output_type": "stream",
     "text": [
      "     status  bed  bath  acre_lot        city        state  zip_code  \\\n",
      "0  for_sale  3.0   2.0      0.12    Adjuntas  Puerto Rico     601.0   \n",
      "1  for_sale  4.0   2.0      0.08    Adjuntas  Puerto Rico     601.0   \n",
      "2  for_sale  2.0   1.0      0.15  Juana Diaz  Puerto Rico     795.0   \n",
      "3  for_sale  4.0   2.0      0.10       Ponce  Puerto Rico     731.0   \n",
      "4  for_sale  6.0   2.0      0.05    Mayaguez  Puerto Rico     680.0   \n",
      "\n",
      "   house_size prev_sold_date     price  \n",
      "0       920.0            NaN  105000.0  \n",
      "1      1527.0            NaN   80000.0  \n",
      "2       748.0            NaN   67000.0  \n",
      "3      1800.0            NaN  145000.0  \n",
      "4         NaN            NaN   65000.0  \n"
     ]
    }
   ],
   "source": [
    "# Create a copy of the original dataset\n",
    "df1 = df.copy()\n",
    "print(df1.head())"
   ]
  },
  {
   "cell_type": "code",
   "execution_count": 4,
   "id": "21ce383e",
   "metadata": {},
   "outputs": [
    {
     "name": "stdout",
     "output_type": "stream",
     "text": [
      "(1401066, 10)\n"
     ]
    }
   ],
   "source": [
    "print(df1.shape)"
   ]
  },
  {
   "cell_type": "markdown",
   "id": "43f58c1f",
   "metadata": {},
   "source": [
    "## 4. Data Definitions: Column Descriptions and Data Types"
   ]
  },
  {
   "cell_type": "code",
   "execution_count": 5,
   "id": "5ffdf04d",
   "metadata": {},
   "outputs": [
    {
     "name": "stdout",
     "output_type": "stream",
     "text": [
      "<class 'pandas.core.frame.DataFrame'>\n",
      "RangeIndex: 1401066 entries, 0 to 1401065\n",
      "Data columns (total 10 columns):\n",
      " #   Column          Non-Null Count    Dtype  \n",
      "---  ------          --------------    -----  \n",
      " 0   status          1401066 non-null  object \n",
      " 1   bed             1184538 non-null  float64\n",
      " 2   bath            1206853 non-null  float64\n",
      " 3   acre_lot        1043599 non-null  float64\n",
      " 4   city            1400875 non-null  object \n",
      " 5   state           1401066 non-null  object \n",
      " 6   zip_code        1400587 non-null  float64\n",
      " 7   house_size      950954 non-null   float64\n",
      " 8   prev_sold_date  714773 non-null   object \n",
      " 9   price           1400958 non-null  float64\n",
      "dtypes: float64(6), object(4)\n",
      "memory usage: 106.9+ MB\n"
     ]
    }
   ],
   "source": [
    "df1.info()"
   ]
  },
  {
   "cell_type": "code",
   "execution_count": 6,
   "id": "3b254e9f",
   "metadata": {},
   "outputs": [
    {
     "data": {
      "text/plain": [
       "status                2\n",
       "bed                  48\n",
       "bath                 42\n",
       "acre_lot           4488\n",
       "city               3512\n",
       "state                19\n",
       "zip_code           4220\n",
       "house_size         6855\n",
       "prev_sold_date    10319\n",
       "price              8735\n",
       "dtype: int64"
      ]
     },
     "execution_count": 6,
     "metadata": {},
     "output_type": "execute_result"
    }
   ],
   "source": [
    "# Counting Unique Values\n",
    "df1.nunique()"
   ]
  },
  {
   "cell_type": "code",
   "execution_count": 7,
   "id": "7a0edf33",
   "metadata": {},
   "outputs": [
    {
     "data": {
      "text/plain": [
       "status            0.000014\n",
       "bed               0.000343\n",
       "bath              0.000300\n",
       "acre_lot          0.032033\n",
       "city              0.025067\n",
       "state             0.000136\n",
       "zip_code          0.030120\n",
       "house_size        0.048927\n",
       "prev_sold_date    0.073651\n",
       "price             0.062345\n",
       "dtype: float64"
      ]
     },
     "execution_count": 7,
     "metadata": {},
     "output_type": "execute_result"
    }
   ],
   "source": [
    "# Percent of unique values\n",
    "df1.nunique() / df1.size*100"
   ]
  },
  {
   "cell_type": "code",
   "execution_count": 8,
   "id": "a54df683",
   "metadata": {},
   "outputs": [],
   "source": [
    "# Convert 'zip_code' column to category\n",
    "df1['zip_code'] = df1['zip_code'].astype('category')"
   ]
  },
  {
   "cell_type": "markdown",
   "id": "39bf7515",
   "metadata": {},
   "source": [
    "## 5. Data Cleaning"
   ]
  },
  {
   "cell_type": "markdown",
   "id": "3504916b",
   "metadata": {},
   "source": [
    "### 5.1 Missing and NaN values"
   ]
  },
  {
   "cell_type": "code",
   "execution_count": 9,
   "id": "906b2695",
   "metadata": {},
   "outputs": [
    {
     "data": {
      "text/html": [
       "<div>\n",
       "<style scoped>\n",
       "    .dataframe tbody tr th:only-of-type {\n",
       "        vertical-align: middle;\n",
       "    }\n",
       "\n",
       "    .dataframe tbody tr th {\n",
       "        vertical-align: top;\n",
       "    }\n",
       "\n",
       "    .dataframe thead th {\n",
       "        text-align: right;\n",
       "    }\n",
       "</style>\n",
       "<table border=\"1\" class=\"dataframe\">\n",
       "  <thead>\n",
       "    <tr style=\"text-align: right;\">\n",
       "      <th></th>\n",
       "      <th>count</th>\n",
       "      <th>%</th>\n",
       "    </tr>\n",
       "  </thead>\n",
       "  <tbody>\n",
       "    <tr>\n",
       "      <th>prev_sold_date</th>\n",
       "      <td>686293</td>\n",
       "      <td>48.983631</td>\n",
       "    </tr>\n",
       "    <tr>\n",
       "      <th>house_size</th>\n",
       "      <td>450112</td>\n",
       "      <td>32.126395</td>\n",
       "    </tr>\n",
       "    <tr>\n",
       "      <th>acre_lot</th>\n",
       "      <td>357467</td>\n",
       "      <td>25.513930</td>\n",
       "    </tr>\n",
       "    <tr>\n",
       "      <th>bed</th>\n",
       "      <td>216528</td>\n",
       "      <td>15.454518</td>\n",
       "    </tr>\n",
       "    <tr>\n",
       "      <th>bath</th>\n",
       "      <td>194213</td>\n",
       "      <td>13.861802</td>\n",
       "    </tr>\n",
       "    <tr>\n",
       "      <th>zip_code</th>\n",
       "      <td>479</td>\n",
       "      <td>0.034188</td>\n",
       "    </tr>\n",
       "    <tr>\n",
       "      <th>city</th>\n",
       "      <td>191</td>\n",
       "      <td>0.013632</td>\n",
       "    </tr>\n",
       "    <tr>\n",
       "      <th>price</th>\n",
       "      <td>108</td>\n",
       "      <td>0.007708</td>\n",
       "    </tr>\n",
       "    <tr>\n",
       "      <th>status</th>\n",
       "      <td>0</td>\n",
       "      <td>0.000000</td>\n",
       "    </tr>\n",
       "    <tr>\n",
       "      <th>state</th>\n",
       "      <td>0</td>\n",
       "      <td>0.000000</td>\n",
       "    </tr>\n",
       "  </tbody>\n",
       "</table>\n",
       "</div>"
      ],
      "text/plain": [
       "                 count          %\n",
       "prev_sold_date  686293  48.983631\n",
       "house_size      450112  32.126395\n",
       "acre_lot        357467  25.513930\n",
       "bed             216528  15.454518\n",
       "bath            194213  13.861802\n",
       "zip_code           479   0.034188\n",
       "city               191   0.013632\n",
       "price              108   0.007708\n",
       "status               0   0.000000\n",
       "state                0   0.000000"
      ]
     },
     "execution_count": 9,
     "metadata": {},
     "output_type": "execute_result"
    }
   ],
   "source": [
    "missing = pd.concat([df1.isna().sum(), 100 * df1.isna().mean()], axis=1)\n",
    "missing.columns=['count', '%']\n",
    "missing.sort_values(by='count', ascending=False)"
   ]
  },
  {
   "cell_type": "markdown",
   "id": "f1516a31",
   "metadata": {},
   "source": [
    "The prev_sold_date feature has the highest numbe rof missing values. This feature does not play an important role in meeting this project's objective but I would not drop it for now. Acre_lot and house_size are important to meeting my objective; these fatures will be dropped because I believe I have sufficient data."
   ]
  },
  {
   "cell_type": "code",
   "execution_count": 10,
   "id": "16330d40",
   "metadata": {},
   "outputs": [
    {
     "name": "stdout",
     "output_type": "stream",
     "text": [
      "(704955, 10)\n"
     ]
    }
   ],
   "source": [
    "# Drop null values from 'acre_lot' and 'house_size' columns\n",
    "df1.dropna(subset=['acre_lot', 'house_size'], inplace=True)\n",
    "\n",
    "print(df1.shape)"
   ]
  },
  {
   "cell_type": "code",
   "execution_count": 11,
   "id": "30e4afd7",
   "metadata": {},
   "outputs": [
    {
     "name": "stdout",
     "output_type": "stream",
     "text": [
      "status                 0\n",
      "bed                20205\n",
      "bath               18261\n",
      "acre_lot               0\n",
      "city                  82\n",
      "state                  0\n",
      "zip_code             119\n",
      "house_size             0\n",
      "prev_sold_date    299805\n",
      "price                  0\n",
      "dtype: int64\n"
     ]
    }
   ],
   "source": [
    "# Find missing values in the DataFrame\n",
    "missing_values = df1.isna()\n",
    "\n",
    "#Display the count of missing values\n",
    "print(missing_values.sum())"
   ]
  },
  {
   "cell_type": "markdown",
   "id": "318e655e",
   "metadata": {},
   "source": [
    "Earlier, there were zero entries in the in the 'price' and 'acre_lot' columns. Drop those values from the price column."
   ]
  },
  {
   "cell_type": "code",
   "execution_count": 12,
   "id": "65461a79",
   "metadata": {},
   "outputs": [
    {
     "name": "stdout",
     "output_type": "stream",
     "text": [
      "Number of values in the 'price' column that are either 0.0 or NaN: 26\n"
     ]
    }
   ],
   "source": [
    "# Count the number of values in the 'price' column that are either 0.0 or NaN\n",
    "price_zero_or_nan = df1['price'].isin([0, 0.0, float('nan')]).sum()\n",
    "\n",
    "print(f\"Number of values in the 'price' column that are either 0.0 or NaN:\", price_zero_or_nan)"
   ]
  },
  {
   "cell_type": "code",
   "execution_count": 13,
   "id": "c94bb27d",
   "metadata": {},
   "outputs": [
    {
     "data": {
      "text/plain": [
       "0    96.549000\n",
       "2     2.005518\n",
       "1     1.445482\n",
       "Name: count, dtype: float64"
      ]
     },
     "execution_count": 13,
     "metadata": {},
     "output_type": "execute_result"
    }
   ],
   "source": [
    "missing_bed_bath = df1[['bed', 'bath']].isna().sum(axis=1)\n",
    "missing_bed_bath.value_counts()/len(missing_bed_bath) * 100"
   ]
  },
  {
   "cell_type": "markdown",
   "id": "47443f69",
   "metadata": {},
   "source": [
    "Over 96% of 'bed' and 'bath' data have no missing values, 2% are missing both values, and about 1.5% have a value missing either in the 'bed' or 'bath' column."
   ]
  },
  {
   "cell_type": "code",
   "execution_count": 14,
   "id": "7e303a90",
   "metadata": {},
   "outputs": [
    {
     "name": "stdout",
     "output_type": "stream",
     "text": [
      "(680627, 10)\n"
     ]
    }
   ],
   "source": [
    "# Iterate through the 'price' column and drop values equal to 0 or 0.0\n",
    "drop_indices = []\n",
    "for index, value in df1['price'].items():\n",
    "    if value == 0 or value == 0.0:\n",
    "        drop_indices.append(index)\n",
    "\n",
    "# Drop rows in the drop_indices list\n",
    "df1.drop(drop_indices, inplace=True, errors='ignore')\n",
    "\n",
    "# Drop rows where both 'bed' and 'bath' columns have missing values\n",
    "df1.dropna(subset=['bed', 'bath'], inplace=True)\n",
    "\n",
    "# Reset index after dropping rows\n",
    "df1.reset_index(drop=True, inplace=True)\n",
    "\n",
    "#Display results\n",
    "print(df1.shape)"
   ]
  },
  {
   "cell_type": "markdown",
   "id": "a63f9929",
   "metadata": {},
   "source": [
    "The column with the date when a house was previously sold has a lot missing data. I would not want to drop theses values because it may contain other useful data. Therefore I would impute with the current date."
   ]
  },
  {
   "cell_type": "code",
   "execution_count": 15,
   "id": "ff79bbba",
   "metadata": {},
   "outputs": [],
   "source": [
    "# Convert the 'prev_sold_date' to datetime\n",
    "df1['prev_sold_date'] = pd.to_datetime(df1['prev_sold_date'], errors='coerce')\n",
    "\n",
    "df1['prev_sold_date'] = df1['prev_sold_date'].dt.strftime(\"%y - %m - %d\")\n",
    "\n",
    "# Fill missing values in 'prev_sold_date' column with today's date\n",
    "df1['prev_sold_date'].fillna(pd.Timestamp.today().date(), inplace=True)"
   ]
  },
  {
   "cell_type": "code",
   "execution_count": 16,
   "id": "ec8855fc",
   "metadata": {},
   "outputs": [
    {
     "data": {
      "image/png": "[encoded data removed]",
      "text/plain": [
       "<Figure size 2500x1000 with 2 Axes>"
      ]
     },
     "metadata": {},
     "output_type": "display_data"
    }
   ],
   "source": [
    "# Determine missingness\n",
    "sorted_df1 = df1.sort_values(by='price')\n",
    "msno.matrix(sorted_df1)\n",
    "plt.show()"
   ]
  },
  {
   "cell_type": "code",
   "execution_count": 17,
   "id": "3876e51f",
   "metadata": {
    "scrolled": true
   },
   "outputs": [
    {
     "data": {
      "text/html": [
       "<div>\n",
       "<style scoped>\n",
       "    .dataframe tbody tr th:only-of-type {\n",
       "        vertical-align: middle;\n",
       "    }\n",
       "\n",
       "    .dataframe tbody tr th {\n",
       "        vertical-align: top;\n",
       "    }\n",
       "\n",
       "    .dataframe thead th {\n",
       "        text-align: right;\n",
       "    }\n",
       "</style>\n",
       "<table border=\"1\" class=\"dataframe\">\n",
       "  <thead>\n",
       "    <tr style=\"text-align: right;\">\n",
       "      <th></th>\n",
       "      <th>count</th>\n",
       "      <th>mean</th>\n",
       "      <th>std</th>\n",
       "      <th>min</th>\n",
       "      <th>25%</th>\n",
       "      <th>50%</th>\n",
       "      <th>75%</th>\n",
       "      <th>max</th>\n",
       "    </tr>\n",
       "  </thead>\n",
       "  <tbody>\n",
       "    <tr>\n",
       "      <th>bed</th>\n",
       "      <td>680627.0</td>\n",
       "      <td>3.788880</td>\n",
       "      <td>2.045016e+00</td>\n",
       "      <td>1.0</td>\n",
       "      <td>3.00</td>\n",
       "      <td>3.00</td>\n",
       "      <td>4.0</td>\n",
       "      <td>99.0</td>\n",
       "    </tr>\n",
       "    <tr>\n",
       "      <th>bath</th>\n",
       "      <td>680627.0</td>\n",
       "      <td>2.668323</td>\n",
       "      <td>2.031559e+00</td>\n",
       "      <td>1.0</td>\n",
       "      <td>2.00</td>\n",
       "      <td>2.00</td>\n",
       "      <td>3.0</td>\n",
       "      <td>198.0</td>\n",
       "    </tr>\n",
       "    <tr>\n",
       "      <th>acre_lot</th>\n",
       "      <td>680627.0</td>\n",
       "      <td>35.392146</td>\n",
       "      <td>1.315755e+03</td>\n",
       "      <td>0.0</td>\n",
       "      <td>0.12</td>\n",
       "      <td>0.29</td>\n",
       "      <td>1.0</td>\n",
       "      <td>100000.0</td>\n",
       "    </tr>\n",
       "    <tr>\n",
       "      <th>house_size</th>\n",
       "      <td>680627.0</td>\n",
       "      <td>2396.491149</td>\n",
       "      <td>3.848698e+03</td>\n",
       "      <td>122.0</td>\n",
       "      <td>1352.00</td>\n",
       "      <td>1894.00</td>\n",
       "      <td>2718.0</td>\n",
       "      <td>1450112.0</td>\n",
       "    </tr>\n",
       "    <tr>\n",
       "      <th>price</th>\n",
       "      <td>680627.0</td>\n",
       "      <td>741644.654704</td>\n",
       "      <td>1.545057e+06</td>\n",
       "      <td>1.0</td>\n",
       "      <td>249900.00</td>\n",
       "      <td>429000.00</td>\n",
       "      <td>749000.0</td>\n",
       "      <td>169000000.0</td>\n",
       "    </tr>\n",
       "  </tbody>\n",
       "</table>\n",
       "</div>"
      ],
      "text/plain": [
       "               count           mean           std    min        25%  \\\n",
       "bed         680627.0       3.788880  2.045016e+00    1.0       3.00   \n",
       "bath        680627.0       2.668323  2.031559e+00    1.0       2.00   \n",
       "acre_lot    680627.0      35.392146  1.315755e+03    0.0       0.12   \n",
       "house_size  680627.0    2396.491149  3.848698e+03  122.0    1352.00   \n",
       "price       680627.0  741644.654704  1.545057e+06    1.0  249900.00   \n",
       "\n",
       "                  50%       75%          max  \n",
       "bed              3.00       4.0         99.0  \n",
       "bath             2.00       3.0        198.0  \n",
       "acre_lot         0.29       1.0     100000.0  \n",
       "house_size    1894.00    2718.0    1450112.0  \n",
       "price       429000.00  749000.0  169000000.0  "
      ]
     },
     "execution_count": 17,
     "metadata": {},
     "output_type": "execute_result"
    }
   ],
   "source": [
    "df1.describe().T"
   ]
  },
  {
   "cell_type": "markdown",
   "id": "dae9155f",
   "metadata": {},
   "source": [
    "### 5.2 Handling Duplicate Rows"
   ]
  },
  {
   "cell_type": "code",
   "execution_count": 18,
   "id": "80b9939a",
   "metadata": {},
   "outputs": [
    {
     "data": {
      "text/html": [
       "<div>\n",
       "<style scoped>\n",
       "    .dataframe tbody tr th:only-of-type {\n",
       "        vertical-align: middle;\n",
       "    }\n",
       "\n",
       "    .dataframe tbody tr th {\n",
       "        vertical-align: top;\n",
       "    }\n",
       "\n",
       "    .dataframe thead th {\n",
       "        text-align: right;\n",
       "    }\n",
       "</style>\n",
       "<table border=\"1\" class=\"dataframe\">\n",
       "  <thead>\n",
       "    <tr style=\"text-align: right;\">\n",
       "      <th></th>\n",
       "      <th>status</th>\n",
       "      <th>bed</th>\n",
       "      <th>bath</th>\n",
       "      <th>acre_lot</th>\n",
       "      <th>city</th>\n",
       "      <th>state</th>\n",
       "      <th>zip_code</th>\n",
       "      <th>house_size</th>\n",
       "      <th>prev_sold_date</th>\n",
       "      <th>price</th>\n",
       "    </tr>\n",
       "  </thead>\n",
       "  <tbody>\n",
       "    <tr>\n",
       "      <th>83</th>\n",
       "      <td>for_sale</td>\n",
       "      <td>3.0</td>\n",
       "      <td>2.0</td>\n",
       "      <td>0.08</td>\n",
       "      <td>Ponce</td>\n",
       "      <td>Puerto Rico</td>\n",
       "      <td>728.0</td>\n",
       "      <td>1500.0</td>\n",
       "      <td>2024-02-19</td>\n",
       "      <td>105000.0</td>\n",
       "    </tr>\n",
       "    <tr>\n",
       "      <th>87</th>\n",
       "      <td>for_sale</td>\n",
       "      <td>5.0</td>\n",
       "      <td>3.0</td>\n",
       "      <td>7.46</td>\n",
       "      <td>Las Marias</td>\n",
       "      <td>Puerto Rico</td>\n",
       "      <td>670.0</td>\n",
       "      <td>5403.0</td>\n",
       "      <td>2024-02-19</td>\n",
       "      <td>300000.0</td>\n",
       "    </tr>\n",
       "    <tr>\n",
       "      <th>88</th>\n",
       "      <td>for_sale</td>\n",
       "      <td>3.0</td>\n",
       "      <td>2.0</td>\n",
       "      <td>0.10</td>\n",
       "      <td>Lares</td>\n",
       "      <td>Puerto Rico</td>\n",
       "      <td>669.0</td>\n",
       "      <td>4161.0</td>\n",
       "      <td>2024-02-19</td>\n",
       "      <td>155000.0</td>\n",
       "    </tr>\n",
       "    <tr>\n",
       "      <th>94</th>\n",
       "      <td>for_sale</td>\n",
       "      <td>3.0</td>\n",
       "      <td>2.0</td>\n",
       "      <td>0.05</td>\n",
       "      <td>Yauco</td>\n",
       "      <td>Puerto Rico</td>\n",
       "      <td>698.0</td>\n",
       "      <td>1118.0</td>\n",
       "      <td>2024-02-19</td>\n",
       "      <td>122500.0</td>\n",
       "    </tr>\n",
       "    <tr>\n",
       "      <th>95</th>\n",
       "      <td>for_sale</td>\n",
       "      <td>3.0</td>\n",
       "      <td>2.0</td>\n",
       "      <td>3.88</td>\n",
       "      <td>San Sebastian</td>\n",
       "      <td>Puerto Rico</td>\n",
       "      <td>685.0</td>\n",
       "      <td>4000.0</td>\n",
       "      <td>2024-02-19</td>\n",
       "      <td>575000.0</td>\n",
       "    </tr>\n",
       "    <tr>\n",
       "      <th>...</th>\n",
       "      <td>...</td>\n",
       "      <td>...</td>\n",
       "      <td>...</td>\n",
       "      <td>...</td>\n",
       "      <td>...</td>\n",
       "      <td>...</td>\n",
       "      <td>...</td>\n",
       "      <td>...</td>\n",
       "      <td>...</td>\n",
       "      <td>...</td>\n",
       "    </tr>\n",
       "    <tr>\n",
       "      <th>680619</th>\n",
       "      <td>for_sale</td>\n",
       "      <td>3.0</td>\n",
       "      <td>2.0</td>\n",
       "      <td>4.60</td>\n",
       "      <td>Gerry</td>\n",
       "      <td>New York</td>\n",
       "      <td>14740.0</td>\n",
       "      <td>1470.0</td>\n",
       "      <td>17 - 02 - 02</td>\n",
       "      <td>145000.0</td>\n",
       "    </tr>\n",
       "    <tr>\n",
       "      <th>680622</th>\n",
       "      <td>for_sale</td>\n",
       "      <td>3.0</td>\n",
       "      <td>1.0</td>\n",
       "      <td>0.10</td>\n",
       "      <td>Dunkirk</td>\n",
       "      <td>New York</td>\n",
       "      <td>14048.0</td>\n",
       "      <td>1002.0</td>\n",
       "      <td>17 - 04 - 03</td>\n",
       "      <td>29900.0</td>\n",
       "    </tr>\n",
       "    <tr>\n",
       "      <th>680623</th>\n",
       "      <td>for_sale</td>\n",
       "      <td>4.0</td>\n",
       "      <td>2.0</td>\n",
       "      <td>0.36</td>\n",
       "      <td>Silver Creek</td>\n",
       "      <td>New York</td>\n",
       "      <td>14136.0</td>\n",
       "      <td>2026.0</td>\n",
       "      <td>00 - 09 - 01</td>\n",
       "      <td>187900.0</td>\n",
       "    </tr>\n",
       "    <tr>\n",
       "      <th>680625</th>\n",
       "      <td>for_sale</td>\n",
       "      <td>2.0</td>\n",
       "      <td>2.0</td>\n",
       "      <td>0.14</td>\n",
       "      <td>Dunkirk</td>\n",
       "      <td>New York</td>\n",
       "      <td>14048.0</td>\n",
       "      <td>1568.0</td>\n",
       "      <td>03 - 04 - 15</td>\n",
       "      <td>92000.0</td>\n",
       "    </tr>\n",
       "    <tr>\n",
       "      <th>680626</th>\n",
       "      <td>for_sale</td>\n",
       "      <td>5.0</td>\n",
       "      <td>2.0</td>\n",
       "      <td>0.14</td>\n",
       "      <td>Angola</td>\n",
       "      <td>New York</td>\n",
       "      <td>14006.0</td>\n",
       "      <td>1908.0</td>\n",
       "      <td>16 - 01 - 12</td>\n",
       "      <td>99900.0</td>\n",
       "    </tr>\n",
       "  </tbody>\n",
       "</table>\n",
       "<p>606646 rows × 10 columns</p>\n",
       "</div>"
      ],
      "text/plain": [
       "          status  bed  bath  acre_lot           city        state zip_code  \\\n",
       "83      for_sale  3.0   2.0      0.08          Ponce  Puerto Rico    728.0   \n",
       "87      for_sale  5.0   3.0      7.46     Las Marias  Puerto Rico    670.0   \n",
       "88      for_sale  3.0   2.0      0.10          Lares  Puerto Rico    669.0   \n",
       "94      for_sale  3.0   2.0      0.05          Yauco  Puerto Rico    698.0   \n",
       "95      for_sale  3.0   2.0      3.88  San Sebastian  Puerto Rico    685.0   \n",
       "...          ...  ...   ...       ...            ...          ...      ...   \n",
       "680619  for_sale  3.0   2.0      4.60          Gerry     New York  14740.0   \n",
       "680622  for_sale  3.0   1.0      0.10        Dunkirk     New York  14048.0   \n",
       "680623  for_sale  4.0   2.0      0.36   Silver Creek     New York  14136.0   \n",
       "680625  for_sale  2.0   2.0      0.14        Dunkirk     New York  14048.0   \n",
       "680626  for_sale  5.0   2.0      0.14         Angola     New York  14006.0   \n",
       "\n",
       "        house_size prev_sold_date     price  \n",
       "83          1500.0     2024-02-19  105000.0  \n",
       "87          5403.0     2024-02-19  300000.0  \n",
       "88          4161.0     2024-02-19  155000.0  \n",
       "94          1118.0     2024-02-19  122500.0  \n",
       "95          4000.0     2024-02-19  575000.0  \n",
       "...            ...            ...       ...  \n",
       "680619      1470.0   17 - 02 - 02  145000.0  \n",
       "680622      1002.0   17 - 04 - 03   29900.0  \n",
       "680623      2026.0   00 - 09 - 01  187900.0  \n",
       "680625      1568.0   03 - 04 - 15   92000.0  \n",
       "680626      1908.0   16 - 01 - 12   99900.0  \n",
       "\n",
       "[606646 rows x 10 columns]"
      ]
     },
     "execution_count": 18,
     "metadata": {},
     "output_type": "execute_result"
    }
   ],
   "source": [
    "duplicate_df1 = df1[df1.duplicated()]\n",
    "duplicate_df1"
   ]
  },
  {
   "cell_type": "code",
   "execution_count": 19,
   "id": "088235d0",
   "metadata": {},
   "outputs": [
    {
     "name": "stdout",
     "output_type": "stream",
     "text": [
      "(73835, 10)\n"
     ]
    }
   ],
   "source": [
    "df1.drop_duplicates(subset=[\"bed\", \"bath\", \"acre_lot\", \"city\", \"state\", \"zip_code\", \"house_size\", \"price\"], inplace=True)\n",
    "\n",
    "print(df1.shape)"
   ]
  },
  {
   "cell_type": "code",
   "execution_count": 20,
   "id": "fed95051",
   "metadata": {},
   "outputs": [
    {
     "data": {
      "text/html": [
       "<div>\n",
       "<style scoped>\n",
       "    .dataframe tbody tr th:only-of-type {\n",
       "        vertical-align: middle;\n",
       "    }\n",
       "\n",
       "    .dataframe tbody tr th {\n",
       "        vertical-align: top;\n",
       "    }\n",
       "\n",
       "    .dataframe thead th {\n",
       "        text-align: right;\n",
       "    }\n",
       "</style>\n",
       "<table border=\"1\" class=\"dataframe\">\n",
       "  <thead>\n",
       "    <tr style=\"text-align: right;\">\n",
       "      <th></th>\n",
       "      <th>count</th>\n",
       "      <th>mean</th>\n",
       "      <th>std</th>\n",
       "      <th>min</th>\n",
       "      <th>25%</th>\n",
       "      <th>50%</th>\n",
       "      <th>75%</th>\n",
       "      <th>max</th>\n",
       "    </tr>\n",
       "  </thead>\n",
       "  <tbody>\n",
       "    <tr>\n",
       "      <th>bed</th>\n",
       "      <td>73835.0</td>\n",
       "      <td>3.726444</td>\n",
       "      <td>1.799980e+00</td>\n",
       "      <td>1.0</td>\n",
       "      <td>3.00</td>\n",
       "      <td>3.00</td>\n",
       "      <td>4.0</td>\n",
       "      <td>99.0</td>\n",
       "    </tr>\n",
       "    <tr>\n",
       "      <th>bath</th>\n",
       "      <td>73835.0</td>\n",
       "      <td>2.652902</td>\n",
       "      <td>1.766944e+00</td>\n",
       "      <td>1.0</td>\n",
       "      <td>2.00</td>\n",
       "      <td>2.00</td>\n",
       "      <td>3.0</td>\n",
       "      <td>198.0</td>\n",
       "    </tr>\n",
       "    <tr>\n",
       "      <th>acre_lot</th>\n",
       "      <td>73835.0</td>\n",
       "      <td>27.789430</td>\n",
       "      <td>1.199420e+03</td>\n",
       "      <td>0.0</td>\n",
       "      <td>0.11</td>\n",
       "      <td>0.24</td>\n",
       "      <td>0.8</td>\n",
       "      <td>100000.0</td>\n",
       "    </tr>\n",
       "    <tr>\n",
       "      <th>house_size</th>\n",
       "      <td>73835.0</td>\n",
       "      <td>2347.600515</td>\n",
       "      <td>6.072635e+03</td>\n",
       "      <td>122.0</td>\n",
       "      <td>1331.00</td>\n",
       "      <td>1850.00</td>\n",
       "      <td>2659.0</td>\n",
       "      <td>1450112.0</td>\n",
       "    </tr>\n",
       "    <tr>\n",
       "      <th>price</th>\n",
       "      <td>73835.0</td>\n",
       "      <td>756649.081763</td>\n",
       "      <td>1.807618e+06</td>\n",
       "      <td>1.0</td>\n",
       "      <td>239900.00</td>\n",
       "      <td>400000.00</td>\n",
       "      <td>724900.0</td>\n",
       "      <td>169000000.0</td>\n",
       "    </tr>\n",
       "  </tbody>\n",
       "</table>\n",
       "</div>"
      ],
      "text/plain": [
       "              count           mean           std    min        25%        50%  \\\n",
       "bed         73835.0       3.726444  1.799980e+00    1.0       3.00       3.00   \n",
       "bath        73835.0       2.652902  1.766944e+00    1.0       2.00       2.00   \n",
       "acre_lot    73835.0      27.789430  1.199420e+03    0.0       0.11       0.24   \n",
       "house_size  73835.0    2347.600515  6.072635e+03  122.0    1331.00    1850.00   \n",
       "price       73835.0  756649.081763  1.807618e+06    1.0  239900.00  400000.00   \n",
       "\n",
       "                 75%          max  \n",
       "bed              4.0         99.0  \n",
       "bath             3.0        198.0  \n",
       "acre_lot         0.8     100000.0  \n",
       "house_size    2659.0    1450112.0  \n",
       "price       724900.0  169000000.0  "
      ]
     },
     "execution_count": 20,
     "metadata": {},
     "output_type": "execute_result"
    }
   ],
   "source": [
    "df1.describe().T"
   ]
  },
  {
   "cell_type": "markdown",
   "id": "a413268e",
   "metadata": {},
   "source": [
    "### 5.3 Handling Outliers"
   ]
  },
  {
   "cell_type": "code",
   "execution_count": 21,
   "id": "e5c591a1",
   "metadata": {},
   "outputs": [
    {
     "name": "stdout",
     "output_type": "stream",
     "text": [
      "Upper_threshold: \n",
      "bed                 7.00\n",
      "bath                4.50\n",
      "acre_lot            1.82\n",
      "house_size       4892.50\n",
      "price         1459750.00\n",
      "dtype: float64\n",
      "\n",
      "Lower_threshold: \n",
      "bed               -1.0\n",
      "bath               0.5\n",
      "acre_lot          -0.9\n",
      "house_size     -1063.5\n",
      "price        -499850.0\n",
      "dtype: float64\n"
     ]
    }
   ],
   "source": [
    "# Handling Outliers\n",
    "numeric_cols = ['bed', 'bath', 'acre_lot', 'house_size', 'price']\n",
    "seventy_fifth = df1[numeric_cols].quantile(0.75)\n",
    "twenty_fifth = df[numeric_cols].quantile(0.25)\n",
    "df1_iqr = seventy_fifth - twenty_fifth\n",
    "\n",
    "upper_threshold = seventy_fifth + (1.5 * df1_iqr)\n",
    "\n",
    "lower_threshold = twenty_fifth - (1.5 * df1_iqr)\n",
    "\n",
    "print('Upper_threshold: ')\n",
    "print(upper_threshold)\n",
    "\n",
    "print('\\nLower_threshold: ')\n",
    "print(lower_threshold)"
   ]
  },
  {
   "cell_type": "code",
   "execution_count": 22,
   "id": "25f0c0ae",
   "metadata": {},
   "outputs": [
    {
     "name": "stdout",
     "output_type": "stream",
     "text": [
      "46019\n"
     ]
    }
   ],
   "source": [
    "count_less_than_536000 = (df1['price'] <= 536000).sum()\n",
    "print(count_less_than_536000)"
   ]
  },
  {
   "cell_type": "code",
   "execution_count": 23,
   "id": "f7ab14dd",
   "metadata": {},
   "outputs": [
    {
     "name": "stdout",
     "output_type": "stream",
     "text": [
      "6358\n"
     ]
    }
   ],
   "source": [
    "count_more_than_1520000 = (df1['price'] > 1520000).sum()\n",
    "print(count_more_than_1520000)"
   ]
  },
  {
   "cell_type": "code",
   "execution_count": 24,
   "id": "9ac982c0",
   "metadata": {},
   "outputs": [
    {
     "name": "stdout",
     "output_type": "stream",
     "text": [
      "79\n"
     ]
    }
   ],
   "source": [
    "null_acre_lot = (df1['acre_lot'] == 0.0).sum()\n",
    "print(null_acre_lot)"
   ]
  },
  {
   "cell_type": "code",
   "execution_count": 25,
   "id": "4edc65a5",
   "metadata": {},
   "outputs": [
    {
     "name": "stdout",
     "output_type": "stream",
     "text": [
      "58\n"
     ]
    }
   ],
   "source": [
    "price_less_20000 = (df1['price'] <= 20000).sum()\n",
    "print(price_less_20000)"
   ]
  },
  {
   "cell_type": "markdown",
   "id": "457e9b72",
   "metadata": {},
   "source": [
    "## 5. Conclusion"
   ]
  },
  {
   "cell_type": "code",
   "execution_count": null,
   "id": "3d4f156a",
   "metadata": {},
   "outputs": [],
   "source": []
  },
  {
   "cell_type": "code",
   "execution_count": null,
   "id": "9cc94c53",
   "metadata": {},
   "outputs": [],
   "source": []
  }
 ],
 "metadata": {
  "kernelspec": {
   "display_name": "Python 3 (ipykernel)",
   "language": "python",
   "name": "python3"
  },
  "language_info": {
   "codemirror_mode": {
    "name": "ipython",
    "version": 3
   },
   "file_extension": ".py",
   "mimetype": "text/x-python",
   "name": "python",
   "nbconvert_exporter": "python",
   "pygments_lexer": "ipython3",
   "version": "3.11.7"
  }
 },
 "nbformat": 4,
 "nbformat_minor": 5
}
