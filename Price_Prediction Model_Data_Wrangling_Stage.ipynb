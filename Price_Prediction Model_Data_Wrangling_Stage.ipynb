{
 "cells": [
  {
   "cell_type": "markdown",
   "id": "f60f3186",
   "metadata": {},
   "source": [
    "# Capstone Two: Data Wrangling"
   ]
  },
  {
   "cell_type": "markdown",
   "id": "a4bbd707",
   "metadata": {},
   "source": [
    "## 1. Introduction"
   ]
  },
  {
   "cell_type": "markdown",
   "id": "81029b09",
   "metadata": {},
   "source": [
    "The purpose of this data wrangling exercise is to ensure I have sufficient and quality data to use in developing a price prediction model. \n",
    "\n",
    "The dataset used in this project was obtained from https://www.kaggle.com/datasets/ahmedshahriarsakib/usa-real-estate-dataset \n",
    "The Kaggle command API is !kaggle datasets download -d ahmedshahriarsakib/usa-real-estate-dataset\n",
    "\n",
    "The definitions of the columns in the dataset are:\n",
    "\n",
    "status = Housing status - ready for sale or, ready to build;\n",
    "\n",
    "bed  = number of beds;\n",
    "\n",
    "bath = number of bathrooms;\n",
    "\n",
    "acre_lot = Property / Land size in acres;\n",
    "\n",
    "city = name of the city where house is located;\n",
    "\n",
    "state = name of the state;\n",
    "\n",
    "zip_code = postal code of the area;\n",
    "\n",
    "house_size = square footage for the house;\n",
    "\n",
    "prev_sold_date = previous date when the house was last sold;\n",
    "\n",
    "price = Housing price, it is either the current listing price or recently sold price if the house was sold recently."
   ]
  },
  {
   "cell_type": "markdown",
   "id": "c7a17f3f",
   "metadata": {},
   "source": [
    "### 1.1 Objectives"
   ]
  },
  {
   "cell_type": "markdown",
   "id": "714e0044",
   "metadata": {},
   "source": [
    "Clean the data and ensure it is sufficient to test whether house attributes such as number of bedrooms, bathrooms, as well as location and lot_size correlate with price. Also, if I can predict housing prices based on the features."
   ]
  },
  {
   "cell_type": "markdown",
   "id": "a6d1763a",
   "metadata": {},
   "source": [
    "## 2. Imported Packages and Libraries"
   ]
  },
  {
   "cell_type": "code",
   "execution_count": 1,
   "id": "d49b4c86",
   "metadata": {},
   "outputs": [],
   "source": [
    "# Import packages and libraries\n",
    "import requests\n",
    "import numpy as np\n",
    "import pandas as pd\n",
    "import matplotlib.pyplot as plt\n",
    "import seaborn as sns\n",
    "import missingno as msno"
   ]
  },
  {
   "cell_type": "markdown",
   "id": "e927b9ba",
   "metadata": {},
   "source": [
    "## 3. Load the Real Estate Data"
   ]
  },
  {
   "cell_type": "code",
   "execution_count": 2,
   "id": "cad92a27",
   "metadata": {},
   "outputs": [],
   "source": [
    "# Load the original dataset\n",
    "df = pd.read_csv('realtor_data.csv')"
   ]
  },
  {
   "cell_type": "code",
   "execution_count": 3,
   "id": "93627307",
   "metadata": {},
   "outputs": [
    {
     "name": "stdout",
     "output_type": "stream",
     "text": [
      "     status  bed  bath  acre_lot        city        state  zip_code  \\\n",
      "0  for_sale  3.0   2.0      0.12    Adjuntas  Puerto Rico     601.0   \n",
      "1  for_sale  4.0   2.0      0.08    Adjuntas  Puerto Rico     601.0   \n",
      "2  for_sale  2.0   1.0      0.15  Juana Diaz  Puerto Rico     795.0   \n",
      "3  for_sale  4.0   2.0      0.10       Ponce  Puerto Rico     731.0   \n",
      "4  for_sale  6.0   2.0      0.05    Mayaguez  Puerto Rico     680.0   \n",
      "\n",
      "   house_size prev_sold_date     price  \n",
      "0       920.0            NaN  105000.0  \n",
      "1      1527.0            NaN   80000.0  \n",
      "2       748.0            NaN   67000.0  \n",
      "3      1800.0            NaN  145000.0  \n",
      "4         NaN            NaN   65000.0  \n"
     ]
    }
   ],
   "source": [
    "# Create a copy of the original dataset\n",
    "df2 = df.copy()\n",
    "print(df2.head())"
   ]
  },
  {
   "cell_type": "code",
   "execution_count": 4,
   "id": "21ce383e",
   "metadata": {},
   "outputs": [
    {
     "name": "stdout",
     "output_type": "stream",
     "text": [
      "(1401066, 10)\n"
     ]
    }
   ],
   "source": [
    "print(df2.shape)"
   ]
  },
  {
   "cell_type": "markdown",
   "id": "43f58c1f",
   "metadata": {},
   "source": [
    "## 4. Data Definitions: Column Descriptions and Data Types"
   ]
  },
  {
   "cell_type": "code",
   "execution_count": 5,
   "id": "5ffdf04d",
   "metadata": {},
   "outputs": [
    {
     "name": "stdout",
     "output_type": "stream",
     "text": [
      "<class 'pandas.core.frame.DataFrame'>\n",
      "RangeIndex: 1401066 entries, 0 to 1401065\n",
      "Data columns (total 10 columns):\n",
      " #   Column          Non-Null Count    Dtype  \n",
      "---  ------          --------------    -----  \n",
      " 0   status          1401066 non-null  object \n",
      " 1   bed             1184538 non-null  float64\n",
      " 2   bath            1206853 non-null  float64\n",
      " 3   acre_lot        1043599 non-null  float64\n",
      " 4   city            1400875 non-null  object \n",
      " 5   state           1401066 non-null  object \n",
      " 6   zip_code        1400587 non-null  float64\n",
      " 7   house_size      950954 non-null   float64\n",
      " 8   prev_sold_date  714773 non-null   object \n",
      " 9   price           1400958 non-null  float64\n",
      "dtypes: float64(6), object(4)\n",
      "memory usage: 106.9+ MB\n"
     ]
    }
   ],
   "source": [
    "# An overview of the dataset: Th number of columns, rows, datatypes.\n",
    "df2.info()"
   ]
  },
  {
   "cell_type": "code",
   "execution_count": 6,
   "id": "3b254e9f",
   "metadata": {},
   "outputs": [
    {
     "data": {
      "text/plain": [
       "status                2\n",
       "bed                  48\n",
       "bath                 42\n",
       "acre_lot           4488\n",
       "city               3512\n",
       "state                19\n",
       "zip_code           4220\n",
       "house_size         6855\n",
       "prev_sold_date    10319\n",
       "price              8735\n",
       "dtype: int64"
      ]
     },
     "execution_count": 6,
     "metadata": {},
     "output_type": "execute_result"
    }
   ],
   "source": [
    "# Counting Unique Values\n",
    "df2.nunique()"
   ]
  },
  {
   "cell_type": "code",
   "execution_count": 7,
   "id": "7a0edf33",
   "metadata": {},
   "outputs": [
    {
     "data": {
      "text/plain": [
       "status            0.000014\n",
       "bed               0.000343\n",
       "bath              0.000300\n",
       "acre_lot          0.032033\n",
       "city              0.025067\n",
       "state             0.000136\n",
       "zip_code          0.030120\n",
       "house_size        0.048927\n",
       "prev_sold_date    0.073651\n",
       "price             0.062345\n",
       "dtype: float64"
      ]
     },
     "execution_count": 7,
     "metadata": {},
     "output_type": "execute_result"
    }
   ],
   "source": [
    "# Percent of unique values\n",
    "df2.nunique() / df2.size*100"
   ]
  },
  {
   "cell_type": "markdown",
   "id": "39bf7515",
   "metadata": {},
   "source": [
    "## 5. Data Cleaning"
   ]
  },
  {
   "cell_type": "markdown",
   "id": "3504916b",
   "metadata": {},
   "source": [
    "### 5.1 Missing and NaN values"
   ]
  },
  {
   "cell_type": "code",
   "execution_count": 8,
   "id": "906b2695",
   "metadata": {},
   "outputs": [
    {
     "data": {
      "text/html": [
       "<div>\n",
       "<style scoped>\n",
       "    .dataframe tbody tr th:only-of-type {\n",
       "        vertical-align: middle;\n",
       "    }\n",
       "\n",
       "    .dataframe tbody tr th {\n",
       "        vertical-align: top;\n",
       "    }\n",
       "\n",
       "    .dataframe thead th {\n",
       "        text-align: right;\n",
       "    }\n",
       "</style>\n",
       "<table border=\"1\" class=\"dataframe\">\n",
       "  <thead>\n",
       "    <tr style=\"text-align: right;\">\n",
       "      <th></th>\n",
       "      <th>count</th>\n",
       "      <th>%</th>\n",
       "    </tr>\n",
       "  </thead>\n",
       "  <tbody>\n",
       "    <tr>\n",
       "      <th>prev_sold_date</th>\n",
       "      <td>686293</td>\n",
       "      <td>48.983631</td>\n",
       "    </tr>\n",
       "    <tr>\n",
       "      <th>house_size</th>\n",
       "      <td>450112</td>\n",
       "      <td>32.126395</td>\n",
       "    </tr>\n",
       "    <tr>\n",
       "      <th>acre_lot</th>\n",
       "      <td>357467</td>\n",
       "      <td>25.513930</td>\n",
       "    </tr>\n",
       "    <tr>\n",
       "      <th>bed</th>\n",
       "      <td>216528</td>\n",
       "      <td>15.454518</td>\n",
       "    </tr>\n",
       "    <tr>\n",
       "      <th>bath</th>\n",
       "      <td>194213</td>\n",
       "      <td>13.861802</td>\n",
       "    </tr>\n",
       "    <tr>\n",
       "      <th>zip_code</th>\n",
       "      <td>479</td>\n",
       "      <td>0.034188</td>\n",
       "    </tr>\n",
       "    <tr>\n",
       "      <th>city</th>\n",
       "      <td>191</td>\n",
       "      <td>0.013632</td>\n",
       "    </tr>\n",
       "    <tr>\n",
       "      <th>price</th>\n",
       "      <td>108</td>\n",
       "      <td>0.007708</td>\n",
       "    </tr>\n",
       "    <tr>\n",
       "      <th>status</th>\n",
       "      <td>0</td>\n",
       "      <td>0.000000</td>\n",
       "    </tr>\n",
       "    <tr>\n",
       "      <th>state</th>\n",
       "      <td>0</td>\n",
       "      <td>0.000000</td>\n",
       "    </tr>\n",
       "  </tbody>\n",
       "</table>\n",
       "</div>"
      ],
      "text/plain": [
       "                 count          %\n",
       "prev_sold_date  686293  48.983631\n",
       "house_size      450112  32.126395\n",
       "acre_lot        357467  25.513930\n",
       "bed             216528  15.454518\n",
       "bath            194213  13.861802\n",
       "zip_code           479   0.034188\n",
       "city               191   0.013632\n",
       "price              108   0.007708\n",
       "status               0   0.000000\n",
       "state                0   0.000000"
      ]
     },
     "execution_count": 8,
     "metadata": {},
     "output_type": "execute_result"
    }
   ],
   "source": [
    "missing = pd.concat([df2.isna().sum(), 100 * df2.isna().mean()], axis=1)\n",
    "missing.columns=['count', '%']\n",
    "missing.sort_values(by='count', ascending=False)"
   ]
  },
  {
   "cell_type": "markdown",
   "id": "f1516a31",
   "metadata": {},
   "source": [
    "The prev_sold_date feature has the highest number of missing values. This feature does not play an important role in meeting this project's objective but I would not drop the rows for now because they may contain other useful data. Other features like the house_size, acre_lot, bed, and bath are missing about 32%, 26%, 15%, and 14% of data respectively. I will impute them with either the median, mode or mean since small percentages of data are missing."
   ]
  },
  {
   "cell_type": "code",
   "execution_count": 9,
   "id": "30e4afd7",
   "metadata": {},
   "outputs": [
    {
     "data": {
      "text/html": [
       "<div>\n",
       "<style scoped>\n",
       "    .dataframe tbody tr th:only-of-type {\n",
       "        vertical-align: middle;\n",
       "    }\n",
       "\n",
       "    .dataframe tbody tr th {\n",
       "        vertical-align: top;\n",
       "    }\n",
       "\n",
       "    .dataframe thead th {\n",
       "        text-align: right;\n",
       "    }\n",
       "</style>\n",
       "<table border=\"1\" class=\"dataframe\">\n",
       "  <thead>\n",
       "    <tr style=\"text-align: right;\">\n",
       "      <th></th>\n",
       "      <th>count</th>\n",
       "      <th>mean</th>\n",
       "      <th>std</th>\n",
       "      <th>min</th>\n",
       "      <th>25%</th>\n",
       "      <th>50%</th>\n",
       "      <th>75%</th>\n",
       "      <th>max</th>\n",
       "    </tr>\n",
       "  </thead>\n",
       "  <tbody>\n",
       "    <tr>\n",
       "      <th>bed</th>\n",
       "      <td>1184538.0</td>\n",
       "      <td>3.392347</td>\n",
       "      <td>2.051858e+00</td>\n",
       "      <td>1.0</td>\n",
       "      <td>2.00</td>\n",
       "      <td>3.00</td>\n",
       "      <td>4.00</td>\n",
       "      <td>123.0</td>\n",
       "    </tr>\n",
       "    <tr>\n",
       "      <th>bath</th>\n",
       "      <td>1206853.0</td>\n",
       "      <td>2.487426</td>\n",
       "      <td>1.873599e+00</td>\n",
       "      <td>1.0</td>\n",
       "      <td>2.00</td>\n",
       "      <td>2.00</td>\n",
       "      <td>3.00</td>\n",
       "      <td>198.0</td>\n",
       "    </tr>\n",
       "    <tr>\n",
       "      <th>acre_lot</th>\n",
       "      <td>1043599.0</td>\n",
       "      <td>32.150131</td>\n",
       "      <td>1.249983e+03</td>\n",
       "      <td>0.0</td>\n",
       "      <td>0.12</td>\n",
       "      <td>0.32</td>\n",
       "      <td>1.34</td>\n",
       "      <td>100000.0</td>\n",
       "    </tr>\n",
       "    <tr>\n",
       "      <th>house_size</th>\n",
       "      <td>950954.0</td>\n",
       "      <td>2178.642539</td>\n",
       "      <td>3.492618e+03</td>\n",
       "      <td>4.0</td>\n",
       "      <td>1170.00</td>\n",
       "      <td>1700.00</td>\n",
       "      <td>2500.00</td>\n",
       "      <td>1450112.0</td>\n",
       "    </tr>\n",
       "    <tr>\n",
       "      <th>price</th>\n",
       "      <td>1400958.0</td>\n",
       "      <td>818602.892286</td>\n",
       "      <td>2.683069e+06</td>\n",
       "      <td>0.0</td>\n",
       "      <td>235000.00</td>\n",
       "      <td>446777.00</td>\n",
       "      <td>795000.00</td>\n",
       "      <td>875000000.0</td>\n",
       "    </tr>\n",
       "  </tbody>\n",
       "</table>\n",
       "</div>"
      ],
      "text/plain": [
       "                count           mean           std  min        25%        50%  \\\n",
       "bed         1184538.0       3.392347  2.051858e+00  1.0       2.00       3.00   \n",
       "bath        1206853.0       2.487426  1.873599e+00  1.0       2.00       2.00   \n",
       "acre_lot    1043599.0      32.150131  1.249983e+03  0.0       0.12       0.32   \n",
       "house_size   950954.0    2178.642539  3.492618e+03  4.0    1170.00    1700.00   \n",
       "price       1400958.0  818602.892286  2.683069e+06  0.0  235000.00  446777.00   \n",
       "\n",
       "                  75%          max  \n",
       "bed              4.00        123.0  \n",
       "bath             3.00        198.0  \n",
       "acre_lot         1.34     100000.0  \n",
       "house_size    2500.00    1450112.0  \n",
       "price       795000.00  875000000.0  "
      ]
     },
     "execution_count": 9,
     "metadata": {},
     "output_type": "execute_result"
    }
   ],
   "source": [
    "# Convert 'zip-code' column into non-numerical datatype\n",
    "# so that it is not described as numerical column\n",
    "df2['zip_code'] = df['zip_code'].astype('category')\n",
    "\n",
    "# Describe the numerical columns\n",
    "df2.describe().T"
   ]
  },
  {
   "cell_type": "markdown",
   "id": "318e655e",
   "metadata": {},
   "source": [
    "Drop the data entries of zero or NaN in the 'price' column. The price of zero on a house would seem to be an obvious error in data entry. NaN rows were dropped because they were very few and the remaining data is sufficient to meet the set goal."
   ]
  },
  {
   "cell_type": "code",
   "execution_count": 10,
   "id": "65461a79",
   "metadata": {},
   "outputs": [
    {
     "name": "stdout",
     "output_type": "stream",
     "text": [
      "Number of values in the 'price' column that are either 0.0 or NaN: 215\n",
      "Number of values in the 'acre_lot' column that are either 0.0 or 0: 755\n"
     ]
    }
   ],
   "source": [
    "# Count the number of values in the 'price' column that are either 0.0 or NaN\n",
    "price_zero_or_nan = df2['price'].isin([0, 0.0, float('nan')]).sum()\n",
    "\n",
    "# Count the number of values in the 'acre_lot' column that are either 0.0 or NaN\n",
    "acre_lot_zero_or_nan = df2['acre_lot'].isin([0, 0.0]).sum()\n",
    "\n",
    "\n",
    "print(f\"Number of values in the 'price' column that are either 0.0 or NaN:\", price_zero_or_nan)\n",
    "\n",
    "print(f\"Number of values in the 'acre_lot' column that are either 0.0 or 0:\", acre_lot_zero_or_nan)"
   ]
  },
  {
   "cell_type": "code",
   "execution_count": 11,
   "id": "7e303a90",
   "metadata": {},
   "outputs": [
    {
     "name": "stdout",
     "output_type": "stream",
     "text": [
      "(1400851, 10)\n"
     ]
    }
   ],
   "source": [
    "# Drop rows with 0, 0.0, or NaN in the 'price' column\n",
    "df2 = df2[(df2['price'] != 0) & (df2['price'] != 0.0) & (~df2['price'].isna())]\n",
    "\n",
    "# Reset index after dropping rows\n",
    "df2.reset_index(drop=True, inplace=True)\n",
    "\n",
    "#Display results\n",
    "print(df2.shape)"
   ]
  },
  {
   "cell_type": "markdown",
   "id": "a63f9929",
   "metadata": {},
   "source": [
    "The column with the date when a house was previously sold has a lot missing data. I would not want to drop theses values because it may contain other useful data. Therefore I would impute with the current date."
   ]
  },
  {
   "cell_type": "code",
   "execution_count": 12,
   "id": "ff79bbba",
   "metadata": {},
   "outputs": [],
   "source": [
    "# Convert the 'prev_sold_date' to datetime\n",
    "df2['prev_sold_date'] = pd.to_datetime(df2['prev_sold_date'], errors='coerce')\n",
    "\n",
    "df2['prev_sold_date'] = df2['prev_sold_date'].dt.strftime(\"%y - %m - %d\")\n",
    "\n",
    "# Fill missing values in 'prev_sold_date' column with today's date\n",
    "df2['prev_sold_date'].fillna(pd.Timestamp.today().date(), inplace=True)"
   ]
  },
  {
   "cell_type": "code",
   "execution_count": 13,
   "id": "ec8855fc",
   "metadata": {},
   "outputs": [
    {
     "data": {
      "image/png": "[encoded data removed]",
      "text/plain": [
       "<Figure size 2500x1000 with 2 Axes>"
      ]
     },
     "metadata": {},
     "output_type": "display_data"
    }
   ],
   "source": [
    "# Determine missingness\n",
    "sorted_df2 = df2.sort_values(by='price')\n",
    "msno.matrix(sorted_df2)\n",
    "plt.show()"
   ]
  },
  {
   "cell_type": "markdown",
   "id": "dae9155f",
   "metadata": {},
   "source": [
    "### 5.2 Handling Duplicate Rows"
   ]
  },
  {
   "cell_type": "code",
   "execution_count": 14,
   "id": "80b9939a",
   "metadata": {},
   "outputs": [
    {
     "data": {
      "text/html": [
       "<div>\n",
       "<style scoped>\n",
       "    .dataframe tbody tr th:only-of-type {\n",
       "        vertical-align: middle;\n",
       "    }\n",
       "\n",
       "    .dataframe tbody tr th {\n",
       "        vertical-align: top;\n",
       "    }\n",
       "\n",
       "    .dataframe thead th {\n",
       "        text-align: right;\n",
       "    }\n",
       "</style>\n",
       "<table border=\"1\" class=\"dataframe\">\n",
       "  <thead>\n",
       "    <tr style=\"text-align: right;\">\n",
       "      <th></th>\n",
       "      <th>status</th>\n",
       "      <th>bed</th>\n",
       "      <th>bath</th>\n",
       "      <th>acre_lot</th>\n",
       "      <th>city</th>\n",
       "      <th>state</th>\n",
       "      <th>zip_code</th>\n",
       "      <th>house_size</th>\n",
       "      <th>prev_sold_date</th>\n",
       "      <th>price</th>\n",
       "    </tr>\n",
       "  </thead>\n",
       "  <tbody>\n",
       "    <tr>\n",
       "      <th>77</th>\n",
       "      <td>for_sale</td>\n",
       "      <td>NaN</td>\n",
       "      <td>NaN</td>\n",
       "      <td>0.21</td>\n",
       "      <td>Aguada</td>\n",
       "      <td>Puerto Rico</td>\n",
       "      <td>602.0</td>\n",
       "      <td>NaN</td>\n",
       "      <td>2024-02-20</td>\n",
       "      <td>74000.0</td>\n",
       "    </tr>\n",
       "    <tr>\n",
       "      <th>135</th>\n",
       "      <td>for_sale</td>\n",
       "      <td>3.0</td>\n",
       "      <td>2.0</td>\n",
       "      <td>0.08</td>\n",
       "      <td>Ponce</td>\n",
       "      <td>Puerto Rico</td>\n",
       "      <td>728.0</td>\n",
       "      <td>1500.0</td>\n",
       "      <td>2024-02-20</td>\n",
       "      <td>105000.0</td>\n",
       "    </tr>\n",
       "    <tr>\n",
       "      <th>139</th>\n",
       "      <td>for_sale</td>\n",
       "      <td>5.0</td>\n",
       "      <td>3.0</td>\n",
       "      <td>7.46</td>\n",
       "      <td>Las Marias</td>\n",
       "      <td>Puerto Rico</td>\n",
       "      <td>670.0</td>\n",
       "      <td>5403.0</td>\n",
       "      <td>2024-02-20</td>\n",
       "      <td>300000.0</td>\n",
       "    </tr>\n",
       "    <tr>\n",
       "      <th>140</th>\n",
       "      <td>for_sale</td>\n",
       "      <td>3.0</td>\n",
       "      <td>2.0</td>\n",
       "      <td>0.10</td>\n",
       "      <td>Lares</td>\n",
       "      <td>Puerto Rico</td>\n",
       "      <td>669.0</td>\n",
       "      <td>4161.0</td>\n",
       "      <td>2024-02-20</td>\n",
       "      <td>155000.0</td>\n",
       "    </tr>\n",
       "    <tr>\n",
       "      <th>148</th>\n",
       "      <td>for_sale</td>\n",
       "      <td>3.0</td>\n",
       "      <td>2.0</td>\n",
       "      <td>0.05</td>\n",
       "      <td>Yauco</td>\n",
       "      <td>Puerto Rico</td>\n",
       "      <td>698.0</td>\n",
       "      <td>1118.0</td>\n",
       "      <td>2024-02-20</td>\n",
       "      <td>122500.0</td>\n",
       "    </tr>\n",
       "    <tr>\n",
       "      <th>...</th>\n",
       "      <td>...</td>\n",
       "      <td>...</td>\n",
       "      <td>...</td>\n",
       "      <td>...</td>\n",
       "      <td>...</td>\n",
       "      <td>...</td>\n",
       "      <td>...</td>\n",
       "      <td>...</td>\n",
       "      <td>...</td>\n",
       "      <td>...</td>\n",
       "    </tr>\n",
       "    <tr>\n",
       "      <th>1400845</th>\n",
       "      <td>for_sale</td>\n",
       "      <td>3.0</td>\n",
       "      <td>1.0</td>\n",
       "      <td>0.10</td>\n",
       "      <td>Dunkirk</td>\n",
       "      <td>New York</td>\n",
       "      <td>14048.0</td>\n",
       "      <td>1002.0</td>\n",
       "      <td>17 - 04 - 03</td>\n",
       "      <td>29900.0</td>\n",
       "    </tr>\n",
       "    <tr>\n",
       "      <th>1400846</th>\n",
       "      <td>for_sale</td>\n",
       "      <td>NaN</td>\n",
       "      <td>NaN</td>\n",
       "      <td>155.00</td>\n",
       "      <td>Perrysburg</td>\n",
       "      <td>New York</td>\n",
       "      <td>14129.0</td>\n",
       "      <td>NaN</td>\n",
       "      <td>2024-02-20</td>\n",
       "      <td>325000.0</td>\n",
       "    </tr>\n",
       "    <tr>\n",
       "      <th>1400847</th>\n",
       "      <td>for_sale</td>\n",
       "      <td>4.0</td>\n",
       "      <td>2.0</td>\n",
       "      <td>0.36</td>\n",
       "      <td>Silver Creek</td>\n",
       "      <td>New York</td>\n",
       "      <td>14136.0</td>\n",
       "      <td>2026.0</td>\n",
       "      <td>00 - 09 - 01</td>\n",
       "      <td>187900.0</td>\n",
       "    </tr>\n",
       "    <tr>\n",
       "      <th>1400849</th>\n",
       "      <td>for_sale</td>\n",
       "      <td>2.0</td>\n",
       "      <td>2.0</td>\n",
       "      <td>0.14</td>\n",
       "      <td>Dunkirk</td>\n",
       "      <td>New York</td>\n",
       "      <td>14048.0</td>\n",
       "      <td>1568.0</td>\n",
       "      <td>03 - 04 - 15</td>\n",
       "      <td>92000.0</td>\n",
       "    </tr>\n",
       "    <tr>\n",
       "      <th>1400850</th>\n",
       "      <td>for_sale</td>\n",
       "      <td>5.0</td>\n",
       "      <td>2.0</td>\n",
       "      <td>0.14</td>\n",
       "      <td>Angola</td>\n",
       "      <td>New York</td>\n",
       "      <td>14006.0</td>\n",
       "      <td>1908.0</td>\n",
       "      <td>16 - 01 - 12</td>\n",
       "      <td>99900.0</td>\n",
       "    </tr>\n",
       "  </tbody>\n",
       "</table>\n",
       "<p>1249921 rows × 10 columns</p>\n",
       "</div>"
      ],
      "text/plain": [
       "           status  bed  bath  acre_lot          city        state zip_code  \\\n",
       "77       for_sale  NaN   NaN      0.21        Aguada  Puerto Rico    602.0   \n",
       "135      for_sale  3.0   2.0      0.08         Ponce  Puerto Rico    728.0   \n",
       "139      for_sale  5.0   3.0      7.46    Las Marias  Puerto Rico    670.0   \n",
       "140      for_sale  3.0   2.0      0.10         Lares  Puerto Rico    669.0   \n",
       "148      for_sale  3.0   2.0      0.05         Yauco  Puerto Rico    698.0   \n",
       "...           ...  ...   ...       ...           ...          ...      ...   \n",
       "1400845  for_sale  3.0   1.0      0.10       Dunkirk     New York  14048.0   \n",
       "1400846  for_sale  NaN   NaN    155.00    Perrysburg     New York  14129.0   \n",
       "1400847  for_sale  4.0   2.0      0.36  Silver Creek     New York  14136.0   \n",
       "1400849  for_sale  2.0   2.0      0.14       Dunkirk     New York  14048.0   \n",
       "1400850  for_sale  5.0   2.0      0.14        Angola     New York  14006.0   \n",
       "\n",
       "         house_size prev_sold_date     price  \n",
       "77              NaN     2024-02-20   74000.0  \n",
       "135          1500.0     2024-02-20  105000.0  \n",
       "139          5403.0     2024-02-20  300000.0  \n",
       "140          4161.0     2024-02-20  155000.0  \n",
       "148          1118.0     2024-02-20  122500.0  \n",
       "...             ...            ...       ...  \n",
       "1400845      1002.0   17 - 04 - 03   29900.0  \n",
       "1400846         NaN     2024-02-20  325000.0  \n",
       "1400847      2026.0   00 - 09 - 01  187900.0  \n",
       "1400849      1568.0   03 - 04 - 15   92000.0  \n",
       "1400850      1908.0   16 - 01 - 12   99900.0  \n",
       "\n",
       "[1249921 rows x 10 columns]"
      ]
     },
     "execution_count": 14,
     "metadata": {},
     "output_type": "execute_result"
    }
   ],
   "source": [
    "duplicate_df2 = df2[df2.duplicated(subset=[\"bed\", \"bath\", \"acre_lot\", \"city\", \"state\", \"zip_code\", \"house_size\", \"price\"])]\n",
    "duplicate_df2"
   ]
  },
  {
   "cell_type": "code",
   "execution_count": 15,
   "id": "088235d0",
   "metadata": {},
   "outputs": [
    {
     "name": "stdout",
     "output_type": "stream",
     "text": [
      "(150930, 10)\n"
     ]
    }
   ],
   "source": [
    "df2.drop_duplicates(subset=[\"bed\", \"bath\", \"acre_lot\", \"city\", \"state\", \"zip_code\", \"house_size\", \"price\"], inplace=True)\n",
    "\n",
    "print(df2.shape)"
   ]
  },
  {
   "cell_type": "code",
   "execution_count": 16,
   "id": "fed95051",
   "metadata": {},
   "outputs": [
    {
     "data": {
      "text/html": [
       "<div>\n",
       "<style scoped>\n",
       "    .dataframe tbody tr th:only-of-type {\n",
       "        vertical-align: middle;\n",
       "    }\n",
       "\n",
       "    .dataframe tbody tr th {\n",
       "        vertical-align: top;\n",
       "    }\n",
       "\n",
       "    .dataframe thead th {\n",
       "        text-align: right;\n",
       "    }\n",
       "</style>\n",
       "<table border=\"1\" class=\"dataframe\">\n",
       "  <thead>\n",
       "    <tr style=\"text-align: right;\">\n",
       "      <th></th>\n",
       "      <th>count</th>\n",
       "      <th>mean</th>\n",
       "      <th>std</th>\n",
       "      <th>min</th>\n",
       "      <th>25%</th>\n",
       "      <th>50%</th>\n",
       "      <th>75%</th>\n",
       "      <th>max</th>\n",
       "    </tr>\n",
       "  </thead>\n",
       "  <tbody>\n",
       "    <tr>\n",
       "      <th>bed</th>\n",
       "      <td>125904.0</td>\n",
       "      <td>3.381974</td>\n",
       "      <td>1.884592e+00</td>\n",
       "      <td>1.0</td>\n",
       "      <td>2.00</td>\n",
       "      <td>3.00</td>\n",
       "      <td>4.00</td>\n",
       "      <td>123.0</td>\n",
       "    </tr>\n",
       "    <tr>\n",
       "      <th>bath</th>\n",
       "      <td>127537.0</td>\n",
       "      <td>2.504418</td>\n",
       "      <td>1.708564e+00</td>\n",
       "      <td>1.0</td>\n",
       "      <td>2.00</td>\n",
       "      <td>2.00</td>\n",
       "      <td>3.00</td>\n",
       "      <td>198.0</td>\n",
       "    </tr>\n",
       "    <tr>\n",
       "      <th>acre_lot</th>\n",
       "      <td>114685.0</td>\n",
       "      <td>26.428146</td>\n",
       "      <td>1.128775e+03</td>\n",
       "      <td>0.0</td>\n",
       "      <td>0.11</td>\n",
       "      <td>0.28</td>\n",
       "      <td>1.18</td>\n",
       "      <td>100000.0</td>\n",
       "    </tr>\n",
       "    <tr>\n",
       "      <th>house_size</th>\n",
       "      <td>102241.0</td>\n",
       "      <td>2165.275995</td>\n",
       "      <td>5.303763e+03</td>\n",
       "      <td>4.0</td>\n",
       "      <td>1176.00</td>\n",
       "      <td>1690.00</td>\n",
       "      <td>2497.00</td>\n",
       "      <td>1450112.0</td>\n",
       "    </tr>\n",
       "    <tr>\n",
       "      <th>price</th>\n",
       "      <td>150930.0</td>\n",
       "      <td>859501.384463</td>\n",
       "      <td>3.106674e+06</td>\n",
       "      <td>1.0</td>\n",
       "      <td>225000.00</td>\n",
       "      <td>425000.00</td>\n",
       "      <td>785000.00</td>\n",
       "      <td>875000000.0</td>\n",
       "    </tr>\n",
       "  </tbody>\n",
       "</table>\n",
       "</div>"
      ],
      "text/plain": [
       "               count           mean           std  min        25%        50%  \\\n",
       "bed         125904.0       3.381974  1.884592e+00  1.0       2.00       3.00   \n",
       "bath        127537.0       2.504418  1.708564e+00  1.0       2.00       2.00   \n",
       "acre_lot    114685.0      26.428146  1.128775e+03  0.0       0.11       0.28   \n",
       "house_size  102241.0    2165.275995  5.303763e+03  4.0    1176.00    1690.00   \n",
       "price       150930.0  859501.384463  3.106674e+06  1.0  225000.00  425000.00   \n",
       "\n",
       "                  75%          max  \n",
       "bed              4.00        123.0  \n",
       "bath             3.00        198.0  \n",
       "acre_lot         1.18     100000.0  \n",
       "house_size    2497.00    1450112.0  \n",
       "price       785000.00  875000000.0  "
      ]
     },
     "execution_count": 16,
     "metadata": {},
     "output_type": "execute_result"
    }
   ],
   "source": [
    "df2.describe().T"
   ]
  },
  {
   "cell_type": "markdown",
   "id": "457e9b72",
   "metadata": {},
   "source": [
    "## 5. Conclusion"
   ]
  },
  {
   "cell_type": "markdown",
   "id": "e58c71ec",
   "metadata": {},
   "source": [
    "I would like to drop or impute the remaining missing values on bed, bath, acre_lot, and house_size. Deciding what to do (drop or impute) right now is immature. I would wait to do some extensive exploratory data analysis to gain a better understanding of the data. Now, I would save the dataframe as a csv."
   ]
  },
  {
   "cell_type": "code",
   "execution_count": 17,
   "id": "9cc94c53",
   "metadata": {},
   "outputs": [],
   "source": [
    "# Saving data as a csv in a jupyter notebook\n",
    "df2.to_csv('wrangled_real_estate_data.csv', index=False)"
   ]
  }
 ],
 "metadata": {
  "kernelspec": {
   "display_name": "Python 3 (ipykernel)",
   "language": "python",
   "name": "python3"
  },
  "language_info": {
   "codemirror_mode": {
    "name": "ipython",
    "version": 3
   },
   "file_extension": ".py",
   "mimetype": "text/x-python",
   "name": "python",
   "nbconvert_exporter": "python",
   "pygments_lexer": "ipython3",
   "version": "3.11.7"
  }
 },
 "nbformat": 4,
 "nbformat_minor": 5
}
